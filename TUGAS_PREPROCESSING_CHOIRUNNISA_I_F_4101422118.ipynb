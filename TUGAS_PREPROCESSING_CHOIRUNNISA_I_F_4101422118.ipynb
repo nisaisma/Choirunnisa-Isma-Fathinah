{
  "nbformat": 4,
  "nbformat_minor": 0,
  "metadata": {
    "colab": {
      "provenance": []
    },
    "kernelspec": {
      "name": "python3",
      "display_name": "Python 3"
    },
    "language_info": {
      "name": "python"
    }
  },
  "cells": [
    {
      "cell_type": "markdown",
      "source": [
        "Nama: Choirunnisa Isma Fathinah\n",
        "NIM: 4101422118\n",
        "Prodi: Pendidikan Matematika"
      ],
      "metadata": {
        "id": "RuZAbVRkTGe1"
      }
    },
    {
      "cell_type": "code",
      "execution_count": 19,
      "metadata": {
        "id": "aPAgw7BPA_-m"
      },
      "outputs": [],
      "source": [
        "# Import library yang diperlukan\n",
        "import pandas as pd\n",
        "import numpy as np\n",
        "import seaborn as sns\n",
        "import matplotlib.pyplot as plt"
      ]
    },
    {
      "cell_type": "code",
      "source": [
        "#pemanggilan data\n",
        "df = pd.read_csv(\"produk_elektronik.csv\")"
      ],
      "metadata": {
        "id": "Oo6EafXoDrz6"
      },
      "execution_count": 20,
      "outputs": []
    },
    {
      "cell_type": "code",
      "source": [
        "# 1b. Tampilkan informasi dataset\n",
        "print(\"Informasi Dataset:\")\n",
        "print(df.info())"
      ],
      "metadata": {
        "colab": {
          "base_uri": "https://localhost:8080/"
        },
        "id": "aPmGl6NGD5yX",
        "outputId": "7513e142-2627-48c9-a776-94d453f5efde"
      },
      "execution_count": 21,
      "outputs": [
        {
          "output_type": "stream",
          "name": "stdout",
          "text": [
            "Informasi Dataset:\n",
            "<class 'pandas.core.frame.DataFrame'>\n",
            "RangeIndex: 550 entries, 0 to 549\n",
            "Data columns (total 7 columns):\n",
            " #   Column         Non-Null Count  Dtype  \n",
            "---  ------         --------------  -----  \n",
            " 0   produk_id      550 non-null    int64  \n",
            " 1   nama_produk    550 non-null    object \n",
            " 2   kategori       550 non-null    object \n",
            " 3   harga          520 non-null    float64\n",
            " 4   rating         500 non-null    float64\n",
            " 5   jumlah_ulasan  530 non-null    float64\n",
            " 6   negara_asal    550 non-null    object \n",
            "dtypes: float64(3), int64(1), object(3)\n",
            "memory usage: 30.2+ KB\n",
            "None\n"
          ]
        }
      ]
    },
    {
      "cell_type": "code",
      "source": [
        "# 2a. Cek missing values\n",
        "print(\"\\nJumlah Missing Values per Kolom:\")\n",
        "print(df.isnull().sum())"
      ],
      "metadata": {
        "colab": {
          "base_uri": "https://localhost:8080/"
        },
        "id": "G2-Vey7rEDo0",
        "outputId": "58bf92df-5cc9-4038-dd8b-6f0ca8e37e53"
      },
      "execution_count": 22,
      "outputs": [
        {
          "output_type": "stream",
          "name": "stdout",
          "text": [
            "\n",
            "Jumlah Missing Values per Kolom:\n",
            "produk_id         0\n",
            "nama_produk       0\n",
            "kategori          0\n",
            "harga            30\n",
            "rating           50\n",
            "jumlah_ulasan    20\n",
            "negara_asal       0\n",
            "dtype: int64\n"
          ]
        }
      ]
    },
    {
      "cell_type": "markdown",
      "source": [
        "2b. Penjelasan mengenai missing values\n",
        "Missing values dapat mempengaruhi analisis karena dapat menyebabkan bias, mengurangi akurasi model, dan membuat interpretasi menjadi tidak valid."
      ],
      "metadata": {
        "id": "rvQS2i8sTeAQ"
      }
    },
    {
      "cell_type": "code",
      "source": [
        "# 2c. Pilih metode untuk menangani missing values\n",
        "# Untuk kolom numerik bisa mengganti dengan mean, dan untuk kategori dengan modus\n",
        "df.fillna(df.mean(numeric_only=True), inplace=True)  # Untuk kolom numerik\n",
        "df.fillna(df.mode().iloc[0], inplace=True)  # Untuk kolom kategori"
      ],
      "metadata": {
        "id": "ALCDrGX1EoWs"
      },
      "execution_count": 24,
      "outputs": []
    },
    {
      "cell_type": "code",
      "source": [
        "# 2d. Tampilan jumlah missing values setelah ditangani\n",
        "print(\"\\nJumlah Missing Values setelah penanganan:\")\n",
        "print(df.isnull().sum())"
      ],
      "metadata": {
        "colab": {
          "base_uri": "https://localhost:8080/"
        },
        "id": "ScpKnDCfFMTg",
        "outputId": "189a3125-301c-43a5-b38e-5096ee0099ed"
      },
      "execution_count": 25,
      "outputs": [
        {
          "output_type": "stream",
          "name": "stdout",
          "text": [
            "\n",
            "Jumlah Missing Values setelah penanganan:\n",
            "produk_id        0\n",
            "nama_produk      0\n",
            "kategori         0\n",
            "harga            0\n",
            "rating           0\n",
            "jumlah_ulasan    0\n",
            "negara_asal      0\n",
            "dtype: int64\n"
          ]
        }
      ]
    },
    {
      "cell_type": "code",
      "source": [
        "# 3a. Identifikasi outlier menggunakan boxplot\n",
        "plt.figure(figsize=(10, 6))\n",
        "sns.boxplot(data=df.select_dtypes(include=['number']))\n",
        "plt.title(\"Boxplot untuk Identifikasi Outlier\")\n",
        "plt.show()"
      ],
      "metadata": {
        "colab": {
          "base_uri": "https://localhost:8080/",
          "height": 545
        },
        "id": "jBHml_FKFsAn",
        "outputId": "2328849c-7c11-43cf-9efb-5a472d967bb3"
      },
      "execution_count": 26,
      "outputs": [
        {
          "output_type": "display_data",
          "data": {
            "text/plain": [
              "<Figure size 1000x600 with 1 Axes>"
            ],
            "image/png": "[encoded data removed]"
          },
          "metadata": {}
        }
      ]
    },
    {
      "cell_type": "markdown",
      "source": [
        "3b. Dampak outlier terhadap analisis\n",
        "Outlier dapat menyebabkan model menjadi bias, meningkatkan variabilitas, dan mengurangi generalisasi."
      ],
      "metadata": {
        "id": "tZ_WSPHUTpxW"
      }
    },
    {
      "cell_type": "markdown",
      "source": [
        "3c. Metode yang dipilih adalah IQR (Interquartile Range) karena lebih efektif terhadap outlier, sehingga memastikan outlier dihapus tanpa mengganggu struktur utama data."
      ],
      "metadata": {
        "id": "fOzXnY8ST1M4"
      }
    },
    {
      "cell_type": "code",
      "source": [
        "# 3d. Langkah 1: Pilih hanya kolom numerik\n",
        "numerical_cols = df.select_dtypes(include=['number']).columns"
      ],
      "metadata": {
        "id": "onUuaM-AR8eh"
      },
      "execution_count": 47,
      "outputs": []
    },
    {
      "cell_type": "code",
      "source": [
        "# Memastikan tidak ada missing values sebelum menangani outlier\n",
        "df[numerical_cols] = df[numerical_cols].fillna(df[numerical_cols].median())"
      ],
      "metadata": {
        "id": "EehHe6ygQBqA"
      },
      "execution_count": 40,
      "outputs": []
    },
    {
      "cell_type": "code",
      "source": [
        "# Hitung Q1, Q3, dan IQR\n",
        "Q1 = df[numerical_cols].quantile(0.25)\n",
        "Q3 = df[numerical_cols].quantile(0.75)\n",
        "IQR = Q3 - Q1"
      ],
      "metadata": {
        "id": "NazTsDx5IRuy"
      },
      "execution_count": 41,
      "outputs": []
    },
    {
      "cell_type": "code",
      "source": [
        "# Mask untuk kolom numerik\n",
        "mask = (df[numerical_cols] >= (Q1 - 1.5 * IQR)) & (df[numerical_cols] <= (Q3 + 1.5 * IQR))"
      ],
      "metadata": {
        "id": "ha52Bd0xQKVN"
      },
      "execution_count": 42,
      "outputs": []
    },
    {
      "cell_type": "code",
      "source": [
        "# Mask ke data set\n",
        "df_outlier_removed = df[mask.all(axis=1)]"
      ],
      "metadata": {
        "id": "7YJEiyV7QQkb"
      },
      "execution_count": 43,
      "outputs": []
    },
    {
      "cell_type": "code",
      "source": [
        "# Menegecek jumlah data sebelum dan sesudah\n",
        "print(\"\\nJumlah data sebelum outlier ditangani:\", df.shape[0])\n",
        "print(\"Jumlah data setelah outlier ditangani:\", df_outlier_removed.shape[0])"
      ],
      "metadata": {
        "colab": {
          "base_uri": "https://localhost:8080/"
        },
        "id": "JB6SejKsQTp0",
        "outputId": "996ffed6-2b00-4aee-c8ed-64b416a2df4b"
      },
      "execution_count": 44,
      "outputs": [
        {
          "output_type": "stream",
          "name": "stdout",
          "text": [
            "\n",
            "Jumlah data sebelum outlier ditangani: 550\n",
            "Jumlah data setelah outlier ditangani: 536\n"
          ]
        }
      ]
    },
    {
      "cell_type": "code",
      "source": [
        "# 4a. Tentukan kolom yang memerlukan encoding\n",
        "categorical_columns = df_outlier_removed.select_dtypes(include=['object']).columns\n",
        "print(\"\\nKolom Kategorikal yang Memerlukan Encoding:\", list(categorical_columns))"
      ],
      "metadata": {
        "colab": {
          "base_uri": "https://localhost:8080/"
        },
        "id": "XZ4_yRalSWJY",
        "outputId": "05b7ed35-db65-48e9-f75d-7093e2a17305"
      },
      "execution_count": 49,
      "outputs": [
        {
          "output_type": "stream",
          "name": "stdout",
          "text": [
            "\n",
            "Kolom Kategorikal yang Memerlukan Encoding: ['nama_produk', 'kategori', 'negara_asal']\n"
          ]
        }
      ]
    },
    {
      "cell_type": "code",
      "source": [
        "# 4b. Bandingkan metode encoding\n",
        "# Gunakan One-Hot Encoding untuk kategori nominal dan Label Encoding untuk ordinal jika ada\n",
        "df_encoded = pd.get_dummies(df_outlier_removed, columns=categorical_columns)\n",
        "\n",
        "print(\"\\nDataset setelah Encoding:\")\n",
        "print(df_encoded.head())"
      ],
      "metadata": {
        "colab": {
          "base_uri": "https://localhost:8080/"
        },
        "id": "9ZSLuRTVSd0N",
        "outputId": "640f6541-bde9-4019-cb33-90bb6fc5393d"
      },
      "execution_count": 50,
      "outputs": [
        {
          "output_type": "stream",
          "name": "stdout",
          "text": [
            "\n",
            "Dataset setelah Encoding:\n",
            "   produk_id  harga  rating  jumlah_ulasan  nama_produk_Produk_1  \\\n",
            "0          1  746.0     4.2          273.0                  True   \n",
            "1          2  241.0     3.5          239.0                 False   \n",
            "2          3  810.0     3.8          209.0                 False   \n",
            "3          4  303.0     3.2           59.0                 False   \n",
            "4          5  252.0     3.7           76.0                 False   \n",
            "\n",
            "   nama_produk_Produk_10  nama_produk_Produk_100  nama_produk_Produk_101  \\\n",
            "0                  False                   False                   False   \n",
            "1                  False                   False                   False   \n",
            "2                  False                   False                   False   \n",
            "3                  False                   False                   False   \n",
            "4                  False                   False                   False   \n",
            "\n",
            "   nama_produk_Produk_102  nama_produk_Produk_103  ...  kategori_Tablet  \\\n",
            "0                   False                   False  ...            False   \n",
            "1                   False                   False  ...            False   \n",
            "2                   False                   False  ...             True   \n",
            "3                   False                   False  ...            False   \n",
            "4                   False                   False  ...            False   \n",
            "\n",
            "   negara_asal_Canada  negara_asal_China  negara_asal_France  \\\n",
            "0               False              False               False   \n",
            "1                True              False               False   \n",
            "2                True              False               False   \n",
            "3               False              False               False   \n",
            "4               False              False               False   \n",
            "\n",
            "   negara_asal_Germany  negara_asal_India  negara_asal_Japan  \\\n",
            "0                False              False               True   \n",
            "1                False              False              False   \n",
            "2                False              False              False   \n",
            "3                False              False              False   \n",
            "4                False              False              False   \n",
            "\n",
            "   negara_asal_South Korea  negara_asal_UK  negara_asal_USA  \n",
            "0                    False           False            False  \n",
            "1                    False           False            False  \n",
            "2                    False           False            False  \n",
            "3                     True           False            False  \n",
            "4                     True           False            False  \n",
            "\n",
            "[5 rows x 555 columns]\n"
          ]
        }
      ]
    }
  ]
}